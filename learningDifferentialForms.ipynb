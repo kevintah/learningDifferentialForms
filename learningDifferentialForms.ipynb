{
  "nbformat": 4,
  "nbformat_minor": 0,
  "metadata": {
    "colab": {
      "name": "learningDifferentialForms.ipynb",
      "provenance": [],
      "collapsed_sections": [],
      "authorship_tag": "ABX9TyNd/sqsHlzBOU3DYPtJKEFY",
      "include_colab_link": true
    },
    "kernelspec": {
      "name": "python3",
      "display_name": "Python 3"
    },
    "language_info": {
      "name": "python"
    }
  },
  "cells": [
    {
      "cell_type": "markdown",
      "metadata": {
        "id": "view-in-github",
        "colab_type": "text"
      },
      "source": [
        "<a href=\"https://colab.research.google.com/github/kevintah/learningDifferentialForms/blob/main/learningDifferentialForms.ipynb\" target=\"_parent\"><img src=\"https://colab.research.google.com/assets/colab-badge.svg\" alt=\"Open In Colab\"/></a>"
      ]
    },
    {
      "cell_type": "markdown",
      "source": [
        "$\\omega: T_p \\mathbb{R^n} → \\mathbb{R}$ "
      ],
      "metadata": {
        "id": "hpt-auB31LhB"
      }
    },
    {
      "cell_type": "markdown",
      "source": [
        "# Integrating m-forms"
      ],
      "metadata": {
        "id": "0tMToxixomkg"
      }
    },
    {
      "cell_type": "markdown",
      "source": [
        "$\\int_c \\omega  = \\int . . . . \\int \\omega_{\\phi(u . . v)} (\\frac{\\partial \\phi}{\\partial u} . . . . \\frac{\\partial \\phi}{\\partial v}) $"
      ],
      "metadata": {
        "id": "QNFWFwTzewDK"
      }
    },
    {
      "cell_type": "markdown",
      "source": [
        "$\\omega = x_3 dx_1 \\wedge dx_3 \\wedge dx_4$"
      ],
      "metadata": {
        "id": "F7RzZaITgwGZ"
      }
    },
    {
      "cell_type": "markdown",
      "source": [
        "$\\phi(u_1,u_2,u_3) = <u_1 u_2 , u_1^2 + u_3 , u_2u_3, u_1 + 2u_2 + u_3>$\n",
        "\n",
        " D = [0,1]^3"
      ],
      "metadata": {
        "id": "Z0cokf9AhUIX"
      }
    },
    {
      "cell_type": "markdown",
      "source": [
        "$\\int \\omega = \\int \\int \\int u_2 u_3 dx_1 \\wedge dx_3 \\wedge dx_4 (<u_2,2u_1,0,1>, <u_1,0,u_3,2>,<0,1,u_2,1>)$"
      ],
      "metadata": {
        "id": "xxOPy6FCiAsF"
      }
    },
    {
      "cell_type": "code",
      "source": [
        "import sympy as sp\n",
        "from sympy import Symbol\n",
        "u_1 = Symbol('u_1')\n",
        "u_2 = Symbol('u_2')\n",
        "u_3 = Symbol('u_3')\n",
        "M=sp.Matrix([[u_2,0,1],[u_1,u_3,2],[0,u_2,1]])\n",
        "M"
      ],
      "metadata": {
        "colab": {
          "base_uri": "https://localhost:8080/",
          "height": 79
        },
        "id": "cKQj3RJ8kdqi",
        "outputId": "a640fb6d-616c-4671-8668-40b3b70d1a8f"
      },
      "execution_count": 5,
      "outputs": [
        {
          "output_type": "execute_result",
          "data": {
            "text/plain": [
              "Matrix([\n",
              "[u_2,   0, 1],\n",
              "[u_1, u_3, 2],\n",
              "[  0, u_2, 1]])"
            ],
            "text/latex": "$\\displaystyle \\left[\\begin{matrix}u_{2} & 0 & 1\\\\u_{1} & u_{3} & 2\\\\0 & u_{2} & 1\\end{matrix}\\right]$"
          },
          "metadata": {},
          "execution_count": 5
        }
      ]
    },
    {
      "cell_type": "code",
      "source": [
        "M.det()"
      ],
      "metadata": {
        "colab": {
          "base_uri": "https://localhost:8080/",
          "height": 39
        },
        "id": "QH1b5QDPmKar",
        "outputId": "290a52da-d343-4a4b-eeab-f68db2114048"
      },
      "execution_count": 6,
      "outputs": [
        {
          "output_type": "execute_result",
          "data": {
            "text/plain": [
              "u_1*u_2 - 2*u_2**2 + u_2*u_3"
            ],
            "text/latex": "$\\displaystyle u_{1} u_{2} - 2 u_{2}^{2} + u_{2} u_{3}$"
          },
          "metadata": {},
          "execution_count": 6
        }
      ]
    },
    {
      "cell_type": "markdown",
      "source": [
        "$D:[0,1] \\times [0,1] \\times [0,1]$"
      ],
      "metadata": {
        "id": "MMpU0VGunJPK"
      }
    },
    {
      "cell_type": "markdown",
      "source": [
        "$\\int_s \\omega = \\int_0^1 \\int_0^1 \\int_0^1 ( . .. ) du_3 du_2 du_1$"
      ],
      "metadata": {
        "id": "WNshMsDFnZ3U"
      }
    },
    {
      "cell_type": "markdown",
      "source": [
        "#Derivatives of forms "
      ],
      "metadata": {
        "id": "YHsdXP_trAnm"
      }
    },
    {
      "cell_type": "markdown",
      "source": [
        "Considering as in video $\\alpha =  fdx + gdy + hdz$\n",
        "\n",
        "$d\\alpha = f_x dx \\wedge dx + f_y dy \\wedge dx +  f_z  dz \\wedge dx  +\n",
        "g_x dx \\wedge dy + g_y dy \\wedge dy +  g_z  dz \\wedge dy +  h_x dx \\wedge dz + h_y dy \\wedge dz +  h_z  dz \\wedge dz$"
      ],
      "metadata": {
        "id": "7tme3XT_rPl2"
      }
    },
    {
      "cell_type": "markdown",
      "source": [
        "#Hodge"
      ],
      "metadata": {
        "id": "OMLgJnCN2CqL"
      }
    },
    {
      "cell_type": "markdown",
      "source": [
        "$\\mathbb{R^3}$\n",
        "\n",
        "$*dx = dy \\wedge dz$\n",
        "\n",
        "$*dy = -dx \\wedge dz$\n",
        "\n",
        "$*dz = dx\\wedge dy$\n"
      ],
      "metadata": {
        "id": "_58pmdod2GIz"
      }
    },
    {
      "cell_type": "markdown",
      "source": [
        "#References\n",
        "https://www.youtube.com/watch?v=hUmFsLHsCQ8&list=PL22w63XsKjqzQZtDZO_9s2HEMRJnaOTX7&index=10\n",
        "\n",
        "https://www.youtube.com/watch?v=4--S4N8YDmE&list=PL22w63XsKjqzQZtDZO_9s2HEMRJnaOTX7&index=14"
      ],
      "metadata": {
        "id": "P9Nm5kDhgqOx"
      }
    }
  ]
}